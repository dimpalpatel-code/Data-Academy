{
 "metadata": {
  "language_info": {
   "codemirror_mode": {
    "name": "ipython",
    "version": 3
   },
   "file_extension": ".py",
   "mimetype": "text/x-python",
   "name": "python",
   "nbconvert_exporter": "python",
   "pygments_lexer": "ipython3",
   "version": "3.8.5-final"
  },
  "orig_nbformat": 2,
  "kernelspec": {
   "name": "python3",
   "display_name": "Python 3",
   "language": "python"
  }
 },
 "nbformat": 4,
 "nbformat_minor": 2,
 "cells": [
  {
   "cell_type": "code",
   "execution_count": 207,
   "metadata": {},
   "outputs": [
    {
     "output_type": "stream",
     "name": "stdout",
     "text": [
      "How to make toast\n",
      "Locate your toaster\n",
      "Plug toaster into a power source\n",
      "Set the toaster to desired setting\n",
      "Place two slices of bread inside the toaster\n",
      "Push the lever down\n",
      "Wait until the toast is ready\n",
      "Is the bread toasted enough?\n",
      "no\n",
      "Push the lever down again\n",
      "Please move on to the next step\n",
      "Cool the toast for a few seconds\n",
      "Is the toast now cool enough?\n",
      "no\n",
      "Cool the toast for a few seconds\n",
      "Please move on to the next step\n",
      "Remove toast from the toaster\n",
      "Spread toast with desired topping\n"
     ]
    }
   ],
   "source": [
    "print(\"How to make toast\")\n",
    "\n",
    "print(\"Locate your toaster\")\n",
    "\n",
    "print(\"Plug toaster into a power source\")\n",
    "\n",
    "print(\"Set the toaster to desired setting\")\n",
    "\n",
    "print(\"Place two slices of bread inside the toaster\")\n",
    "\n",
    "print(\"Push the lever down\")\n",
    "\n",
    "print(\"Wait until the toast is ready\")\n",
    "\n",
    "question1 = input(\"\"\"\n",
    "Is the bread toasted enough? Please enter either \n",
    "yes or \n",
    "no:\"\"\")\n",
    "print(\"Is the bread toasted enough?\")\n",
    "\n",
    "yes = 'yes'\n",
    "no = 'no'\n",
    "\n",
    "if question1==(\"yes\"):\n",
    "    print (\"yes\")\n",
    "    print (\"Continue to the next step\")\n",
    "elif (question1==(\"no\")):\n",
    "    print (\"no\")\n",
    "    print (\"Push the lever down again\")\n",
    "\n",
    "print(\"Please move on to the next step\")\n",
    "\n",
    "print(\"Cool the toast for a few seconds\")\n",
    "\n",
    "question2=input(\"\"\"Is the toast now cool enought? Please enter either \n",
    "yes or \n",
    "no:\"\"\")\n",
    "print(\"Is the toast now cool enough?\")\n",
    "\n",
    "if question2==(\"yes\"):\n",
    "    print(\"yes\")\n",
    "    print(\"Continue to the next step\")\n",
    "elif (question2==(\"no\")):\n",
    "    print(no)\n",
    "    print (\"Cool the toast for a few seconds\")\n",
    "\n",
    "print(\"Please move on to the next step\")\n",
    "\n",
    "print(\"Remove toast from the toaster\")\n",
    "\n",
    "print(\"Spread toast with desired topping\")"
   ]
  },
  {
   "cell_type": "code",
   "execution_count": 168,
   "metadata": {},
   "outputs": [
    {
     "output_type": "stream",
     "name": "stdout",
     "text": [
      "year 1 = £ 2000\nyear 2 = £ 1800.0\nyear 3 = £ 1620.0\nyear 4 = £ 1458.0\nyear 5 = £ 1312.2\nyear 6 = £ 1180.98\nyear 7 = £ 1062.882\n"
     ]
    }
   ],
   "source": [
    "def deprecited_value (year, cost, depreciation):\n",
    "    end_value=cost*depreciation\n",
    "    return end_value\n",
    "\n",
    "year=1\n",
    "cost=2000\n",
    "deprecition=0.90\n",
    "\n",
    "while cost >1000:\n",
    "    print(\"year\", year, \"= £\",cost)\n",
    "    year+=1\n",
    "    cost=cost*0.90"
   ]
  },
  {
   "cell_type": "code",
   "execution_count": 209,
   "metadata": {},
   "outputs": [
    {
     "output_type": "stream",
     "name": "stdout",
     "text": [
      "Welcome to the Basic Operations Calculator\n",
      "5 / 3 = 1.6666666666666667\n"
     ]
    }
   ],
   "source": [
    "print(\"Welcome to the Basic Operations Calculator\")    \n",
    "   \n",
    "number1 = int(input(\"Please Enter you first number choice:\"))  \n",
    "number2 = int(input(\"Enter second number choice:\"))  \n",
    "   \n",
    " # TO CONVERT THE INPUTS TO INTEGER  \n",
    "number1 = int(number1)  \n",
    "number2 = int(number2)  \n",
    "\n",
    "# THE add FUNCTION TO PERFORM ADDITION OF TWO NUMBERS  \n",
    "def add(a, b):  \n",
    "    return a + b  \n",
    "   \n",
    "   # THE subtract FUNCTION TO PERFORM SUBTRACTION FOR TWO NUMBERS  \n",
    "def subtract(a, b):  \n",
    "   return a - b  \n",
    "      \n",
    " # THE multiply FUNCTION TO PERFORM MULTIPLICATION OF TWO NUMBERS  \n",
    "def multiply(a, b):  \n",
    "   return a * b  \n",
    "   \n",
    " # THE DIVIDE FUNCTION TO PEFORM DIVISION FOR TWO NUMBERS  \n",
    "def divide(a, b):  \n",
    "   return a / b  \n",
    "   \n",
    "   \n",
    " #TO GET THE USER INPUT  \n",
    "operator = input(\"Please select an operation (+, -, *, /): \")  \n",
    "   \n",
    "if operator == '+':  \n",
    "   result = add(number1,number2)  \n",
    "   print(number1,\"+\",number2,\"=\", result)  \n",
    "   \n",
    "elif operator == '-':  \n",
    "   result = subtract(number1,number2)  \n",
    "   print(number1,\"-\",number2,\"=\", result)  \n",
    "   \n",
    "elif operator == '*':  \n",
    "   result = multiply(number1,number2)  \n",
    "   print(number1,\"*\",number2,\"=\", result)  \n",
    "   \n",
    "elif operator == '/':  \n",
    "   result = divide(number1,number2)  \n",
    "   print(number1,\"/\",number2,\"=\", result)  \n",
    "     \n",
    "else:  \n",
    "   print(\"Invalid input\")"
   ]
  }
 ]
}