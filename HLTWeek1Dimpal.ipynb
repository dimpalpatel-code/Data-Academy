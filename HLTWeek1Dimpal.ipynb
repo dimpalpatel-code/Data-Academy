{
 "metadata": {
  "language_info": {
   "codemirror_mode": {
    "name": "ipython",
    "version": 3
   },
   "file_extension": ".py",
   "mimetype": "text/x-python",
   "name": "python",
   "nbconvert_exporter": "python",
   "pygments_lexer": "ipython3",
   "version": "3.8.5-final"
  },
  "orig_nbformat": 2,
  "kernelspec": {
   "name": "python3",
   "display_name": "Python 3",
   "language": "python"
  }
 },
 "nbformat": 4,
 "nbformat_minor": 2,
 "cells": [
  {
   "cell_type": "code",
   "execution_count": 1,
   "metadata": {},
   "outputs": [
    {
     "output_type": "stream",
     "name": "stdout",
     "text": [
      "Hello World\n"
     ]
    }
   ],
   "source": [
    "print(\"Hello World\")"
   ]
  },
  {
   "cell_type": "code",
   "execution_count": 3,
   "metadata": {},
   "outputs": [
    {
     "output_type": "stream",
     "name": "stdout",
     "text": [
      "1\n"
     ]
    }
   ],
   "source": [
    "import random\n",
    "print(random.randint(1,10))"
   ]
  },
  {
   "cell_type": "code",
   "execution_count": 6,
   "metadata": {},
   "outputs": [
    {
     "output_type": "execute_result",
     "data": {
      "text/plain": [
       "'Dimpal'"
      ]
     },
     "metadata": {},
     "execution_count": 6
    }
   ],
   "source": [
    "input(\"Hello! What is your name?\")"
   ]
  },
  {
   "cell_type": "code",
   "execution_count": 17,
   "metadata": {},
   "outputs": [],
   "source": [
    "myName = input(\"Hello! What is your name?\")"
   ]
  },
  {
   "cell_type": "code",
   "execution_count": 39,
   "metadata": {},
   "outputs": [
    {
     "output_type": "stream",
     "name": "stdout",
     "text": [
      "Well, Dimpal I am thinking of a number between 1 and 10.\n",
      "Wrong, better luck next time\n"
     ]
    }
   ],
   "source": [
    "import random\n",
    "number = random.randint(1, 10)\n",
    "print(\"Well, \"+myName + \" I am thinking of a number between 1 and 10.\")\n",
    "guess=int(input(\"Take a guess\"))\n",
    "if guess == 3:\n",
    "    print(\"Good job,\"+myName +\"! You guessed my number\")\n",
    "else:\n",
    "    print(\"Wrong, better luck next time\")"
   ]
  },
  {
   "cell_type": "code",
   "execution_count": 42,
   "metadata": {},
   "outputs": [
    {
     "output_type": "stream",
     "name": "stdout",
     "text": [
      "Well, Dimpal I am thinking of a number between 1 and 10.\n",
      "Good job, Dimpal! You guessed my number\n"
     ]
    }
   ],
   "source": [
    "import random\n",
    "number = random.randint(1, 10)\n",
    "print(\"Well, \"+myName + \" I am thinking of a number between 1 and 10.\")\n",
    "guess=int(input(\"Take a guess\"))\n",
    "if guess == 3:\n",
    "    print(\"Good job, \"+myName +\"! You guessed my number\")\n",
    "else:\n",
    "    print(\"Wrong, better luck next time\")"
   ]
  },
  {
   "cell_type": "code",
   "execution_count": 91,
   "metadata": {},
   "outputs": [
    {
     "output_type": "stream",
     "name": "stdout",
     "text": [
      "Hello, please pick a number between 1 and 100\n",
      "1\n",
      "Sorry, better luck next time\n"
     ]
    }
   ],
   "source": [
    "print(\"Hello, please pick a number between 1 and 100\")\n",
    "guess=int(input(\"Take a guess\"))\n",
    "import random\n",
    "number = random.randint(1, 100)\n",
    "print(guess)\n",
    "if guess ==10:\n",
    "    print(\"Good job! Now a joke, Why was 10 scared of 9?\" \" Because 9 8 7\") \n",
    "if guess ==64:\n",
    "    print(\"Following a recipe, says I need: apples, four cubed. 64 sounds like a lot of apples for a pie...\")\n",
    "if guess ==90:\n",
    "    print(\"How do you stay warm in a cold room? Just huddle in the corner, where it’s always 90 degrees\")\n",
    "if guess ==97:\n",
    "    print(\"A farmer counted 97 cows in his field. But when he rounded them up, he had 100...\")\n",
    "if guess ==57:\n",
    "    print(\"I got my covid test results and I'm so confused.. it was just the number 83... On the plus side my IQ test came back positive!\")\n",
    "else:\n",
    "    print(\"Sorry, better luck next time\")"
   ]
  },
  {
   "cell_type": "code",
   "execution_count": 151,
   "metadata": {},
   "outputs": [
    {
     "output_type": "stream",
     "name": "stdout",
     "text": [
      "Hello, can you please tell me your favourite starter?\n",
      "tempura prawns\n",
      "That's a good choice\n",
      "Now, can you tell me your favourite main course?\n",
      "pork char sui\n",
      "Mmmm, yummy\n",
      "What's your favourite dessert?\n",
      "banana fritters\n",
      "Delicious\n",
      "And what's your favourite drink to have along with this wonderful food?\n",
      "zinfandel\n",
      "Lovely!\n",
      "\n",
      "\n",
      "Your favourite meal is tempura prawns, pork char sui and banana fritters with a glass of zinfandel.\n"
     ]
    }
   ],
   "source": [
    "print(\"Hello, can you please tell me your favourite starter?\")\n",
    "starter=(input(\"Starter\"))\n",
    "print(starter)\n",
    "print(\"That's a good choice\")\n",
    "\n",
    "print(\"Now, can you tell me your favourite main course?\")\n",
    "main_course=(input(\"Main course\"))\n",
    "print(main_course)\n",
    "print(\"Mmmm, yummy\")\n",
    "\n",
    "print(\"What's your favourite dessert?\")\n",
    "dessert=(input(\"Dessert\"))\n",
    "print(dessert)\n",
    "print(\"Delicious\")\n",
    "\n",
    "print(\"And what's your favourite drink to have along with this wonderful food?\")\n",
    "drink=(input(\"Drink\"))\n",
    "print(drink)\n",
    "print(\"Lovely!\")\n",
    "\n",
    "print(\"\\n\")\n",
    "print(\"Your favourite meal is \" +starter+\", \"+main_course+\" and \"+dessert+\" with a glass of \"+drink+\".\")"
   ]
  },
  {
   "cell_type": "code",
   "execution_count": 179,
   "metadata": {},
   "outputs": [
    {
     "output_type": "stream",
     "name": "stdout",
     "text": [
      "year 1 = £ 2000\nyear 2 = £ 1800.0\nyear 3 = £ 1620.0\nyear 4 = £ 1458.0\nyear 5 = £ 1312.2\nyear 6 = £ 1180.98\nyear 7 = £ 1062.882\n"
     ]
    }
   ],
   "source": [
    "year=1\n",
    "cost=2000\n",
    "deprecition=0.10\n",
    "\n",
    "while cost >1000:\n",
    "    print(\"year\", year, \"= £\",cost)\n",
    "    year+=1\n",
    "    cost=cost*0.90"
   ]
  },
  {
   "cell_type": "code",
   "execution_count": 1,
   "metadata": {},
   "outputs": [
    {
     "output_type": "stream",
     "name": "stdout",
     "text": [
      "10.0 + 2.0 = \n12.0\n"
     ]
    }
   ],
   "source": [
    "username = input(\"Can I take your name please?\")\n",
    "\n",
    "num1 = float(input(\"Hello \"+username+ \" please enter your first choice of number\"))\n",
    "num2 = float(input(\"Please enter your second choice of number\"))\n",
    "\n",
    "operation = input(\"\"\"Please confirm which operation you would like to perform: \n",
    "a for addition, \n",
    "b for subtraction, \n",
    "c for multiplication, \n",
    "d for division or \n",
    "e for square number\"\"\")\n",
    "\n",
    "a = '+'\n",
    "b = '-'\n",
    "c = '*'\n",
    "d = '/'\n",
    "e = '**'\n",
    "\n",
    "if operation== 'a':\n",
    "        print(\"{} + {} = \".format(num1, num2))\n",
    "        print(num1 + num2)\n",
    "elif operation== 'b':\n",
    "        print(\"{} - {} = \".format(num1, num2))\n",
    "        print(num1 - num2)\n",
    "elif operation== 'c':\n",
    "        print(\"{} * {} = \".format(num1, num2))\n",
    "        print(num1 * num2)\n",
    "elif operation== 'd':\n",
    "        print(\"{} / {} = \".format(num1, num2))\n",
    "        print(num1 / num2)\n",
    "elif operation== 'e':\n",
    "        print(\"{} ** {} = \".format(num1, num2))\n",
    "        print(num1 ** num2)"
   ]
  }
 ]
}