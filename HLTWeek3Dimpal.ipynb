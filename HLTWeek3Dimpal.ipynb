{
 "metadata": {
  "language_info": {
   "codemirror_mode": {
    "name": "ipython",
    "version": 3
   },
   "file_extension": ".py",
   "mimetype": "text/x-python",
   "name": "python",
   "nbconvert_exporter": "python",
   "pygments_lexer": "ipython3",
   "version": "3.8.5"
  },
  "orig_nbformat": 2,
  "kernelspec": {
   "name": "python385jvsc74a57bd04ba9b59caacfcb17d5a53a8fb98cf070514172ad8d0edfbcc9f5a06ca95e1805",
   "display_name": "Python 3.8.5 64-bit ('base': conda)"
  }
 },
 "nbformat": 4,
 "nbformat_minor": 2,
 "cells": [
  {
   "cell_type": "code",
   "execution_count": 69,
   "metadata": {},
   "outputs": [
    {
     "output_type": "stream",
     "name": "stdout",
     "text": [
      "You chose the correct number!\nYou chose the correct number!\nYou chose the correct number!\nYou chose the correct number!\nCogratulations, your responses have been saved to Numbers.txt\n"
     ]
    }
   ],
   "source": [
    "# ASK USER TO ENTER NUMBERS\n",
    "value1 = input(\"Please enter the first number choice, hint: it is the number between 2 and 4:\\n\")\n",
    "value2 = input(\"Please enter your second number choice, hint: it is the number between 44 and 46:\\n\")\n",
    "value3 = input(\"Please enter your third number choice, hint: it is the number between 82 and 84:\\n\")\n",
    "value4 = input(\"Please enter your fourth number choice, hint: it is the number between 20 and 22:\\n\")\n",
    "\n",
    "# SET THE VARIABLES\n",
    "v1 = int(3)\n",
    "v2 = int(45)\n",
    "v3 = int(83)\n",
    "v4 = int(21)\n",
    "\n",
    "# IF AND ELSE SMENTS\n",
    "if v1 == 3:\n",
    "    print(\"You chose the correct number!\")\n",
    "else:\n",
    "    print(\"Sorry you did not enter the correct value.\")\n",
    "\n",
    "if v2 == 45:\n",
    "    print(\"You chose the correct number!\")\n",
    "else:\n",
    "    print(\"Sorry you did not enter the correct values.\")\n",
    "\n",
    "if v3 == 83:\n",
    "    print(\"You chose the correct number!\")\n",
    "else:\n",
    "    print(\"Sorry you did not enter the correct values.\")\n",
    "\n",
    "if v4 == 21:\n",
    "    print(\"You chose the correct number!\")\n",
    "else:\n",
    "    print(\"Sorry you did not enter the correct values.\")\n",
    "\n",
    "print(\"Cogratulations, your responses have been saved to Numbers.txt\")\n",
    "\n",
    "# SAVE RESPONSES TO NUMBERS.TXT\n",
    "\n",
    "my_file = open(\"Numbers.txt\", \"w\")\n",
    "\n",
    "my_file.write (value1)\n",
    "my_file.write (\"\\n\")\n",
    "my_file.write (value2)\n",
    "my_file.write  (\"\\n\")\n",
    "my_file.write (value3)\n",
    "my_file.write  (\"\\n\")\n",
    "my_file.write (value4)\n",
    "\n",
    "my_file.close()"
   ]
  },
  {
   "cell_type": "code",
   "execution_count": 4,
   "metadata": {},
   "outputs": [
    {
     "output_type": "stream",
     "name": "stdout",
     "text": [
      "Congratulations! You got a B\n"
     ]
    }
   ],
   "source": [
    "mark_grade = float(input(\"Please enter your mark in figures only: \"))\n",
    "\n",
    "if  mark_grade > 90 and mark_grade <=100:\n",
    "    print (\"Congratulations! You got an A+\")\n",
    "elif mark_grade >80 and mark_grade <=90:\n",
    "    print (\"Congratulations! You got an A\")\n",
    "elif mark_grade >70 and mark_grade <=80:\n",
    "    print (\"Congratulations! You got a B\")\n",
    "elif mark_grade >60 and mark_grade <=70:\n",
    "    print (\"Congratulations! You got a C\")\n",
    "elif mark_grade >50 and mark_grade <=60:\n",
    "    print (\"Congratulations! You got a D\")\n",
    "elif mark_grade >50 and mark_grade <=60:\n",
    "    print (\"You got an E!\")\n",
    "elif mark_grade >0 and mark_grade <=50:\n",
    "    print (\"You got an F!\")\n",
    "else:\n",
    "    print(\"Unfortunately you need to enter a mark between 0 and 100\")"
   ]
  },
  {
   "cell_type": "code",
   "execution_count": 7,
   "metadata": {},
   "outputs": [
    {
     "output_type": "stream",
     "name": "stdout",
     "text": [
      "Array from 0 to 10:\n[0 1 2 3 4 5 6 7 8 9]\n"
     ]
    }
   ],
   "source": [
    "import numpy as np\n",
    "Array = np.arange(10)\n",
    "print(\"Array from 0 to 10:\")\n",
    "print(Array)"
   ]
  },
  {
   "cell_type": "code",
   "execution_count": 15,
   "metadata": {},
   "outputs": [
    {
     "output_type": "execute_result",
     "data": {
      "text/plain": [
       "array([[ True,  True,  True],\n",
       "       [ True,  True,  True],\n",
       "       [ True,  True,  True]])"
      ]
     },
     "metadata": {},
     "execution_count": 15
    }
   ],
   "source": [
    "np.full((3, 3), True)"
   ]
  },
  {
   "cell_type": "code",
   "execution_count": 12,
   "metadata": {},
   "outputs": [
    {
     "output_type": "stream",
     "name": "stdout",
     "text": [
      "2D Numpy Array: \n[[ True  True  True]\n [ True  True  True]\n [ True  True  True]]\n"
     ]
    }
   ],
   "source": [
    "bool_arr = np.ones((3, 3), dtype=bool)\n",
    "print('2D Numpy Array: ')\n",
    "print(bool_arr)"
   ]
  },
  {
   "cell_type": "code",
   "execution_count": 26,
   "metadata": {},
   "outputs": [
    {
     "output_type": "execute_result",
     "data": {
      "text/plain": [
       "array([1, 3, 5, 7, 9])"
      ]
     },
     "metadata": {},
     "execution_count": 26
    }
   ],
   "source": [
    "a = np.array([1,2,3,4,5,6,7,8,9,10])\n",
    "a[a % 2 == 1]"
   ]
  },
  {
   "cell_type": "code",
   "execution_count": 29,
   "metadata": {},
   "outputs": [
    {
     "output_type": "stream",
     "name": "stdout",
     "text": [
      "[-1  2 -1  4 -1  6 -1  8 -1 10]\n"
     ]
    }
   ],
   "source": [
    "a = np.array([1,2,3,4,5,6,7,8,9,10])\n",
    "a[a % 2 == 1] = -1\n",
    "\n",
    "print (a)"
   ]
  },
  {
   "cell_type": "code",
   "execution_count": 32,
   "metadata": {},
   "outputs": [
    {
     "output_type": "stream",
     "name": "stdout",
     "text": [
      "[[ 1  2  3  4  5]\n [ 6  7  8  9 10]]\n"
     ]
    }
   ],
   "source": [
    "array = np.array([1, 2, 3, 4, 5, 6, 7, 8, 9, 10,])\n",
    "newArray = array.reshape (2,5)\n",
    "print(newArray)"
   ]
  },
  {
   "cell_type": "code",
   "execution_count": 56,
   "metadata": {},
   "outputs": [
    {
     "output_type": "stream",
     "name": "stdout",
     "text": [
      "[[ 116  122  128  134]\n [ 372  394  416  438]\n [ 628  666  704  742]\n [ 884  938  992 1046]]\n[2000 2120 2240 2360]\n"
     ]
    }
   ],
   "source": []
  },
  {
   "cell_type": "code",
   "execution_count": 69,
   "metadata": {},
   "outputs": [
    {
     "output_type": "stream",
     "name": "stdout",
     "text": [
      "[[ 1  6]\n [ 2  7]\n [ 3  8]\n [ 4  9]\n [ 5 10]]\n130\n130\n"
     ]
    }
   ],
   "source": [
    "a = np.array([1,2,3,4,5])\n",
    "b = np.array([6,7,8,9,10])\n",
    "c = np.column_stack((a,b))\n",
    "\n",
    "print(c)\n",
    "\n",
    "c = np.dot(a,b)\n",
    "\n",
    "print(c)\n",
    "\n",
    "e = np.sum(c, axis= 0)\n",
    "\n",
    "print (e)"
   ]
  },
  {
   "cell_type": "code",
   "execution_count": 75,
   "metadata": {},
   "outputs": [
    {
     "output_type": "execute_result",
     "data": {
      "text/plain": [
       "array([1, 1, 1, 2, 2, 2, 3, 3, 3, 1, 2, 3, 1, 2, 3, 1, 2, 3])"
      ]
     },
     "metadata": {},
     "execution_count": 75
    }
   ],
   "source": [
    "a = np.array([1,2,3])\n",
    "\n",
    "np.r_[np.repeat(a, 3), np.tile(a, 3)]"
   ]
  },
  {
   "cell_type": "code",
   "execution_count": 45,
   "metadata": {},
   "outputs": [
    {
     "output_type": "stream",
     "name": "stdout",
     "text": [
      "[[1]\n [2]\n [3]\n [4]\n [5]\n [4]\n [5]\n [6]\n [7]\n [8]\n [9]]\n"
     ]
    }
   ],
   "source": [
    "a = np.vstack([1,2,3,4,5])\n",
    "b = np.vstack([4,5,6,7,8,9])\n",
    "c = np.delete (b, (0,1))\n",
    "d = np.concatenate ((a,b))\n",
    "\n",
    "print(d)"
   ]
  },
  {
   "cell_type": "code",
   "execution_count": 54,
   "metadata": {},
   "outputs": [
    {
     "output_type": "stream",
     "name": "stdout",
     "text": [
      "[28]\n"
     ]
    }
   ],
   "source": [
    "a = np.vstack([1,2,3,4,5])\n",
    "b = np.vstack([4,5,6,7,8,9])\n",
    "c = np.delete (b, (0,1))\n",
    "d = np.concatenate ((a,b), axis = 0)\n",
    "\n",
    "e=d[2]+[3]+[4]+[5]+[6]+[7]\n",
    "\n",
    "print(e)"
   ]
  },
  {
   "cell_type": "code",
   "execution_count": null,
   "metadata": {},
   "outputs": [],
   "source": []
  }
 ]
}