{
 "metadata": {
  "language_info": {
   "codemirror_mode": {
    "name": "ipython",
    "version": 3
   },
   "file_extension": ".py",
   "mimetype": "text/x-python",
   "name": "python",
   "nbconvert_exporter": "python",
   "pygments_lexer": "ipython3",
   "version": "3.8.5"
  },
  "orig_nbformat": 2,
  "kernelspec": {
   "name": "python385jvsc74a57bd04ba9b59caacfcb17d5a53a8fb98cf070514172ad8d0edfbcc9f5a06ca95e1805",
   "display_name": "Python 3.8.5 64-bit ('base': conda)"
  }
 },
 "nbformat": 4,
 "nbformat_minor": 2,
 "cells": [
  {
   "cell_type": "code",
   "execution_count": 1,
   "metadata": {},
   "outputs": [],
   "source": [
    "import pandas as pd"
   ]
  },
  {
   "cell_type": "code",
   "execution_count": 5,
   "metadata": {},
   "outputs": [
    {
     "output_type": "stream",
     "name": "stdout",
     "text": [
      "   Destination Name  Feedback Score (out of 10) Average Holiday Star Rating  \\\n0            Azores                           9                       *****   \n1           Florida                           9                       *****   \n2         Balearics                           8                        ****   \n3          Canaries                           8                        ****   \n4        Cape Verde                           9                       *****   \n5         Carribean                           8                        ****   \n6             Egypt                           7                         ***   \n7            Greece                           8                        ****   \n8             India                           7                         ***   \n9             Italy                           9                       *****   \n10         Maldives                           9                       *****   \n11           Mexico                           8                        ****   \n12            Spain                           9                       *****   \n13         Thailand                           8                        ****   \n14           Turkey                           8                        ****   \n\n    No. of All-Inclusive Hotels Most Visited City  \n0                            88        Sao Miguel  \n1                          1648           Orlando  \n2                           179             Palma  \n3                           152      Gran Canaria  \n4                            11         Boa Vista  \n5                           255            Havana  \n6                            80        Cairo City  \n7                           392            Athens  \n8                          4238              Agra  \n9                          2875          Florence  \n10                           65              Male  \n11                          398            Cancun  \n12                          709         Barcelona  \n13                          584           Bangkok  \n14                          557            Ankara  \n"
     ]
    }
   ],
   "source": [
    "Holiday_Destinations = pd.read_csv(\"Holiday Destinations.csv\")\n",
    "\n",
    "print (Holiday_Destinations)"
   ]
  },
  {
   "cell_type": "code",
   "execution_count": 6,
   "metadata": {},
   "outputs": [
    {
     "output_type": "execute_result",
     "data": {
      "text/plain": [
       "(15, 5)"
      ]
     },
     "metadata": {},
     "execution_count": 6
    }
   ],
   "source": [
    "data.shape"
   ]
  },
  {
   "cell_type": "code",
   "execution_count": 13,
   "metadata": {},
   "outputs": [
    {
     "output_type": "execute_result",
     "data": {
      "text/plain": [
       "815.4"
      ]
     },
     "metadata": {},
     "execution_count": 13
    }
   ],
   "source": [
    "Holiday_Destinations = pd.read_csv(\"Holiday Destinations.csv\")\n",
    "\n",
    "data['No. of All-Inclusive Hotels'].mean()"
   ]
  },
  {
   "cell_type": "code",
   "execution_count": 16,
   "metadata": {},
   "outputs": [
    {
     "output_type": "stream",
     "name": "stdout",
     "text": [
      "11\n"
     ]
    }
   ],
   "source": [
    "df = pd.read_csv(\"Holiday Destinations.csv\")\n",
    "\n",
    "a = df['No. of All-Inclusive Hotels'].min()\n",
    "\n",
    "print(a)"
   ]
  },
  {
   "cell_type": "code",
   "execution_count": 18,
   "metadata": {},
   "outputs": [
    {
     "output_type": "stream",
     "name": "stdout",
     "text": [
      "4238\n"
     ]
    }
   ],
   "source": [
    "df = pd.read_csv(\"Holiday Destinations.csv\")\n",
    "\n",
    "b = df['No. of All-Inclusive Hotels'].max()\n",
    "\n",
    "print(b)"
   ]
  },
  {
   "cell_type": "code",
   "execution_count": 27,
   "metadata": {},
   "outputs": [
    {
     "output_type": "stream",
     "name": "stdout",
     "text": [
      "   Destination Name  Feedback Score (out of 10) Average Holiday Star Rating  \\\n0            Azores                           9                       *****   \n1           Florida                           9                       *****   \n2         Balearics                           8                        ****   \n3          Canaries                           8                        ****   \n4        Cape Verde                           9                       *****   \n5         Carribean                           8                        ****   \n6             Egypt                           7                         ***   \n7            Greece                           8                        ****   \n8             India                           7                         ***   \n9             Italy                           9                       *****   \n10         Maldives                           9                       *****   \n11           Mexico                           8                        ****   \n12            Spain                           9                       *****   \n13         Thailand                           8                        ****   \n14           Turkey                           8                        ****   \n\n    No. of All-Inclusive Hotels Most Visited City  \n0                            88        Sao Miguel  \n1                          1648           Orlando  \n2                           179             Palma  \n3                           152      Gran Canaria  \n4                            11         Boa Vista  \n5                           255            Havana  \n6                            80        Cairo City  \n7                           392            Athens  \n8                          4238              Agra  \n9                          2875          Florence  \n10                           65              Male  \n11                          398            Cancun  \n12                          709         Barcelona  \n13                          584           Bangkok  \n14                          557            Ankara  \n"
     ]
    }
   ],
   "source": [
    "Holiday_Destinations = pd.read_csv(\"Holiday Destinations.csv\")\n",
    "\n",
    "myfilter = Holiday_Destinations['No. of All-Inclusive Hotels'] > 9\n",
    "\n",
    "print(df[myfilter])"
   ]
  },
  {
   "cell_type": "code",
   "execution_count": 29,
   "metadata": {},
   "outputs": [
    {
     "output_type": "stream",
     "name": "stdout",
     "text": [
      "   Destination Name  Feedback Score (out of 10) Average Holiday Star Rating  \\\n0            Azores                           9                       *****   \n1           Florida                           9                       *****   \n2         Balearics                           8                        ****   \n3          Canaries                           8                        ****   \n4        Cape Verde                           9                       *****   \n5         Carribean                           8                        ****   \n7            Greece                           8                        ****   \n9             Italy                           9                       *****   \n10         Maldives                           9                       *****   \n11           Mexico                           8                        ****   \n12            Spain                           9                       *****   \n13         Thailand                           8                        ****   \n14           Turkey                           8                        ****   \n\n    No. of All-Inclusive Hotels Most Visited City  \n0                            88        Sao Miguel  \n1                          1648           Orlando  \n2                           179             Palma  \n3                           152      Gran Canaria  \n4                            11         Boa Vista  \n5                           255            Havana  \n7                           392            Athens  \n9                          2875          Florence  \n10                           65              Male  \n11                          398            Cancun  \n12                          709         Barcelona  \n13                          584           Bangkok  \n14                          557            Ankara  \n"
     ]
    }
   ],
   "source": [
    "Holiday_Destinations = pd.read_csv(\"Holiday Destinations.csv\")\n",
    "\n",
    "myfilter1 = Holiday_Destinations['Feedback Score (out of 10)'] > 7\n",
    "\n",
    "print(df[myfilter1])"
   ]
  },
  {
   "cell_type": "code",
   "execution_count": 31,
   "metadata": {},
   "outputs": [
    {
     "output_type": "stream",
     "name": "stdout",
     "text": [
      "Empty DataFrame\nColumns: [Destination Name, Feedback Score (out of 10), Average Holiday Star Rating, No. of All-Inclusive Hotels, Most Visited City]\nIndex: []\n"
     ]
    }
   ],
   "source": [
    "Holiday_Destinations = pd.read_csv(\"Holiday Destinations.csv\")\n",
    "\n",
    "myfilter2 = Holiday_Destinations['Feedback Score (out of 10)'] < 3\n",
    "\n",
    "print(df[myfilter2])"
   ]
  },
  {
   "cell_type": "code",
   "execution_count": null,
   "metadata": {},
   "outputs": [],
   "source": []
  }
 ]
}